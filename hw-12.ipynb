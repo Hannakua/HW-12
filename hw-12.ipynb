{
 "cells": [
  {
   "cell_type": "markdown",
   "id": "ff9cfbae",
   "metadata": {},
   "source": [
    "Зробіть summary нижчевказаного тексту використовуючи бібліотеки для NLP: nltk та SpaCy"
   ]
  },
  {
   "cell_type": "code",
   "execution_count": 1,
   "id": "eaeb9116",
   "metadata": {},
   "outputs": [],
   "source": [
    "import spacy"
   ]
  },
  {
   "cell_type": "code",
   "execution_count": 2,
   "id": "afcd594b-0a27-4832-924e-87f13affa489",
   "metadata": {},
   "outputs": [],
   "source": [
    "from nltk.corpus import stopwords\n",
    "from nltk.tokenize import word_tokenize, sent_tokenize\n",
    "import re\n",
    "from nltk.stem.porter import PorterStemmer\n",
    "from heapq import nlargest"
   ]
  },
  {
   "cell_type": "code",
   "execution_count": 3,
   "id": "ccf1ff74",
   "metadata": {},
   "outputs": [],
   "source": [
    "# Текст для обробки\n",
    "\n",
    "text = \"\"\"The Orbiter Discovery, OV-103, is considered eligible for listing in the National Register of Historic Places (NRHP) in the context of the U.S. Space Shuttle Program (1969-2011) under Criterion A in the areas of Space Exploration and Transportation and under Criterion C in the area of Engineering. Because it has achieved significance within the past fifty years, Criteria Consideration G applies. Under Criterion A, Discovery is significant as the oldest of the three extant orbiter vehicles constructed for the Space Shuttle Program (SSP), the longest running American space program to date; she was the third of five orbiters built by NASA. Unlike the Mercury, Gemini, and Apollo programs, the SSP’s emphasis was on cost effectiveness and reusability, and eventually the construction of a space station. Including her maiden voyage (launched August 30, 1984), Discovery flew to space thirty-nine times, more than any of the other four orbiters; she was also the first orbiter to fly twenty missions. She had the honor of being chosen as the Return to Flight vehicle after both the Challenger and Columbia accidents. Discovery was the first shuttle to fly with the redesigned SRBs, a result of the Challenger accident, and the first shuttle to fly with the Phase II and Block I SSME. Discovery also carried the Hubble Space Telescope to orbit and performed two of the five servicing missions to the observatory. She flew the first and last dedicated Department of Defense (DoD) missions, as well as the first unclassified defense-related mission. In addition, Discovery was vital to the construction of the International Space Station (ISS); she flew thirteen of the thirty-seven total missions flown to the station by a U.S. Space Shuttle. She was the first orbiter to dock to the ISS, and the first to perform an exchange of a resident crew. Under Criterion C, Discovery is significant as a feat of engineering. According to Wayne Hale, a flight director from Johnson Space Center, the Space Shuttle orbiter represents a “huge technological leap from expendable rockets and capsules to a reusable, winged, hypersonic, cargo-carrying spacecraft.” Although her base structure followed a conventional aircraft design, she used advanced materials that both minimized her weight for cargo-carrying purposes and featured low thermal expansion ratios, which provided a stable base for her Thermal Protection System (TPS) materials. The Space Shuttle orbiter also featured the first reusable TPS; all previous spaceflight vehicles had a single-use, ablative heat shield. Other notable engineering achievements of the orbiter included the first reusable orbital propulsion system, and the first two-fault-tolerant Integrated Avionics System. As Hale stated, the Space Shuttle remains “the largest, fastest, winged hypersonic aircraft in history,” having regularly flown at twenty-five times the speed of sound.\"\"\""
   ]
  },
  {
   "cell_type": "code",
   "execution_count": 4,
   "id": "2bffcbe9-93da-4141-853d-c3a03e37460c",
   "metadata": {},
   "outputs": [],
   "source": [
    "nlp = spacy.load('en_core_web_sm')"
   ]
  },
  {
   "cell_type": "code",
   "execution_count": 5,
   "id": "b6529a49",
   "metadata": {},
   "outputs": [
    {
     "name": "stdout",
     "output_type": "stream",
     "text": [
      "{\"mightn't\", 'these', 'out', 'his', 'against', 'above', 'from', \"doesn't\", 'she', 'myself', 'on', 'by', 'same', 'too', 'my', 'wasn', \"you'll\", 'then', \"don't\", 'm', 'which', 'to', \"aren't\", 'should', \"haven't\", \"hasn't\", \"shan't\", 'a', 'shouldn', 'ain', 'an', 'were', 'was', 'd', 'mightn', 'shan', 'we', 'why', 't', 'very', 'mustn', 'your', 'won', 'where', 'this', 'nor', \"wouldn't\", 'if', 'it', 'been', 'their', 'no', 'only', \"hadn't\", 'when', 'he', 'such', 'over', 'be', 'because', 'who', 'isn', 'yourself', 'until', 'weren', 'couldn', 'are', 'll', 'there', 'doesn', 'after', 'themselves', 'haven', 'own', \"didn't\", 'had', 'down', 'now', 'ma', \"won't\", 'through', \"isn't\", 'more', 'for', 'ourselves', 'each', 'all', \"shouldn't\", 'don', 'didn', 'than', 'aren', 'itself', 'yourselves', 'our', 'at', 'further', 'needn', 'and', 'yours', 'below', \"should've\", 'between', 'am', 'does', 'its', 'how', \"you've\", 'other', 'herself', 'will', 'hers', \"she's\", 'what', 'i', \"you're\", 'both', 'can', \"weren't\", 'under', 'up', 'during', 'me', 'those', \"mustn't\", 'or', 'hasn', 'some', \"wasn't\", 'him', 'wouldn', 'having', 'has', 'do', 'being', 've', 'with', 'they', \"it's\", 'the', 'have', 'into', 'y', 'as', 'not', 'you', 'once', 'most', \"couldn't\", \"needn't\", 'just', 'in', 're', 'any', 'hadn', 'while', 'ours', 'here', 'did', 'whom', 'them', \"you'd\", 'again', 'of', 'o', 'that', 's', 'off', 'her', 'about', 'but', 'so', 'himself', 'doing', 'theirs', 'is', 'few', \"that'll\", 'before'}\n"
     ]
    }
   ],
   "source": [
    "stop_words = set(stopwords.words(\"english\"))\n",
    "print(stop_words)"
   ]
  },
  {
   "cell_type": "code",
   "execution_count": 6,
   "id": "a889d9c3",
   "metadata": {},
   "outputs": [
    {
     "data": {
      "text/plain": [
       "[The Orbiter Discovery, OV-103, is considered eligible for listing in the National Register of Historic Places (NRHP) in the context of the U.S. Space Shuttle Program (1969-2011) under Criterion A in the areas of Space Exploration and Transportation and under Criterion C in the area of Engineering.,\n",
       " Because it has achieved significance within the past fifty years, Criteria Consideration G applies.,\n",
       " Under Criterion A, Discovery is significant as the oldest of the three extant orbiter vehicles constructed for the Space Shuttle Program (SSP), the longest running American space program to date; she was the third of five orbiters built by NASA.,\n",
       " Unlike the Mercury, Gemini, and Apollo programs, the SSP’s emphasis was on cost effectiveness and reusability, and eventually the construction of a space station.,\n",
       " Including her maiden voyage (launched August 30, 1984), Discovery flew to space thirty-nine times, more than any of the other four orbiters; she was also the first orbiter to fly twenty missions.,\n",
       " She had the honor of being chosen as the Return to Flight vehicle after both the Challenger and Columbia accidents.,\n",
       " Discovery was the first shuttle to fly with the redesigned SRBs, a result of the Challenger accident, and the first shuttle to fly with the Phase II and Block I SSME.,\n",
       " Discovery also carried the Hubble Space Telescope to orbit and performed two of the five servicing missions to the observatory.,\n",
       " She flew the first and last dedicated Department of Defense (DoD) missions, as well as the first unclassified defense-related mission.,\n",
       " In addition, Discovery was vital to the construction of the International Space Station (ISS); she flew thirteen of the thirty-seven total missions flown to the station by a U.S. Space Shuttle.,\n",
       " She was the first orbiter to dock to the ISS, and the first to perform an exchange of a resident crew.,\n",
       " Under Criterion C, Discovery is significant as a feat of engineering.,\n",
       " According to Wayne Hale, a flight director from Johnson Space Center, the Space Shuttle orbiter represents a “huge technological leap from expendable rockets and capsules to a reusable, winged, hypersonic, cargo-carrying spacecraft.”,\n",
       " Although her base structure followed a conventional aircraft design, she used advanced materials that both minimized her weight for cargo-carrying purposes and featured low thermal expansion ratios, which provided a stable base for her Thermal Protection System (TPS) materials.,\n",
       " The Space Shuttle orbiter also featured the first reusable TPS; all previous spaceflight vehicles had a single-use, ablative heat shield.,\n",
       " Other notable engineering achievements of the orbiter included the first reusable orbital propulsion system, and the first two-fault-tolerant Integrated Avionics System.,\n",
       " As Hale stated, the Space Shuttle remains “the largest, fastest, winged hypersonic aircraft in history,” having regularly flown at twenty-five times the speed of sound.]"
      ]
     },
     "execution_count": 6,
     "metadata": {},
     "output_type": "execute_result"
    }
   ],
   "source": [
    "doc = nlp(text)\n",
    "sentences_original = [sent for sent in doc.sents]\n",
    "sentences_original"
   ]
  },
  {
   "cell_type": "code",
   "execution_count": 7,
   "id": "e13c0bec",
   "metadata": {},
   "outputs": [
    {
     "data": {
      "text/plain": [
       "['The Orbiter Discovery  OV-103  is considered eligible for listing in the National Register of Historic Places  NRHP  in the context of the U S  Space Shuttle Program  1969-2011  under Criterion A in the areas of Space Exploration and Transportation and under Criterion C in the area of Engineering ',\n",
       " 'Because it has achieved significance within the past fifty years  Criteria Consideration G applies ',\n",
       " 'Under Criterion A  Discovery is significant as the oldest of the three extant orbiter vehicles constructed for the Space Shuttle Program  SSP   the longest running American space program to date  she was the third of five orbiters built by NASA ',\n",
       " 'Unlike the Mercury  Gemini  and Apollo programs  the SSP s emphasis was on cost effectiveness and reusability  and eventually the construction of a space station ',\n",
       " 'Including her maiden voyage  launched August 30  1984   Discovery flew to space thirty-nine times  more than any of the other four orbiters  she was also the first orbiter to fly twenty missions ',\n",
       " 'She had the honor of being chosen as the Return to Flight vehicle after both the Challenger and Columbia accidents ',\n",
       " 'Discovery was the first shuttle to fly with the redesigned SRBs  a result of the Challenger accident  and the first shuttle to fly with the Phase II and Block I SSME ',\n",
       " 'Discovery also carried the Hubble Space Telescope to orbit and performed two of the five servicing missions to the observatory ',\n",
       " 'She flew the first and last dedicated Department of Defense  DoD  missions  as well as the first unclassified defense-related mission ',\n",
       " 'In addition  Discovery was vital to the construction of the International Space Station  ISS   she flew thirteen of the thirty-seven total missions flown to the station by a U S  Space Shuttle ',\n",
       " 'She was the first orbiter to dock to the ISS  and the first to perform an exchange of a resident crew ',\n",
       " 'Under Criterion C  Discovery is significant as a feat of engineering ',\n",
       " 'According to Wayne Hale  a flight director from Johnson Space Center  the Space Shuttle orbiter represents a  huge technological leap from expendable rockets and capsules to a reusable  winged  hypersonic  cargo-carrying spacecraft  ',\n",
       " 'Although her base structure followed a conventional aircraft design  she used advanced materials that both minimized her weight for cargo-carrying purposes and featured low thermal expansion ratios  which provided a stable base for her Thermal Protection System  TPS  materials ',\n",
       " 'The Space Shuttle orbiter also featured the first reusable TPS  all previous spaceflight vehicles had a single-use  ablative heat shield ',\n",
       " 'Other notable engineering achievements of the orbiter included the first reusable orbital propulsion system  and the first two-fault-tolerant Integrated Avionics System ',\n",
       " 'As Hale stated  the Space Shuttle remains  the largest  fastest  winged hypersonic aircraft in history   having regularly flown at twenty-five times the speed of sound ']"
      ]
     },
     "execution_count": 7,
     "metadata": {},
     "output_type": "execute_result"
    }
   ],
   "source": [
    "sentences =[re.sub(r\"[^a-zA-Z0-9\\-]\", \" \", sentence.text) for sentence in sentences_original]\n",
    "sentences"
   ]
  },
  {
   "cell_type": "code",
   "execution_count": 8,
   "id": "c29f66ff",
   "metadata": {},
   "outputs": [],
   "source": [
    "def get_filtered_words(sentence):\n",
    "    words = word_tokenize(sentence)\n",
    "    stemmed_words = []\n",
    "    for word in words:\n",
    "        if word.lower() not in stop_words:\n",
    "            stemmer = PorterStemmer()\n",
    "            stemmed_word = stemmer.stem(word)\n",
    "            stemmed_words.append(stemmed_word)\n",
    "    return stemmed_words"
   ]
  },
  {
   "cell_type": "code",
   "execution_count": 15,
   "id": "df403b0a",
   "metadata": {},
   "outputs": [
    {
     "data": {
      "text/plain": [
       "[['orbit',\n",
       "  'discoveri',\n",
       "  'ov-103',\n",
       "  'consid',\n",
       "  'elig',\n",
       "  'list',\n",
       "  'nation',\n",
       "  'regist',\n",
       "  'histor',\n",
       "  'place',\n",
       "  'nrhp',\n",
       "  'context',\n",
       "  'u',\n",
       "  'space',\n",
       "  'shuttl',\n",
       "  'program',\n",
       "  '1969-2011',\n",
       "  'criterion',\n",
       "  'area',\n",
       "  'space',\n",
       "  'explor',\n",
       "  'transport',\n",
       "  'criterion',\n",
       "  'c',\n",
       "  'area',\n",
       "  'engin']]"
      ]
     },
     "execution_count": 15,
     "metadata": {},
     "output_type": "execute_result"
    }
   ],
   "source": [
    "words_for_sentences = [get_filtered_words(sentence) for sentence in sentences]\n",
    "words_for_sentences[0:1]"
   ]
  },
  {
   "cell_type": "code",
   "execution_count": 16,
   "id": "5bfe70b0",
   "metadata": {},
   "outputs": [],
   "source": [
    "for_sentences = []      \n",
    "for el in words_for_sentences:\n",
    "    for_sentences.extend(el)"
   ]
  },
  {
   "cell_type": "code",
   "execution_count": 31,
   "id": "5bcc5c76-4c43-4625-a60a-f5e7f6fb4b39",
   "metadata": {},
   "outputs": [],
   "source": [
    "def get_words_frequencies(lst_words):\n",
    "    word_frequencies = {}\n",
    "    for word in lst_words:\n",
    "      if word not in word_frequencies.keys():\n",
    "        word_frequencies[word] = 1\n",
    "      else:\n",
    "         word_frequencies[word] += 1\n",
    "    return word_frequencies"
   ]
  },
  {
   "cell_type": "code",
   "execution_count": 36,
   "id": "afcbafa4",
   "metadata": {},
   "outputs": [
    {
     "data": {
      "text/plain": [
       "{'orbit': 11,\n",
       " 'discoveri': 7,\n",
       " 'ov-103': 1,\n",
       " 'consid': 1,\n",
       " 'elig': 1,\n",
       " 'list': 1,\n",
       " 'nation': 1,\n",
       " 'regist': 1,\n",
       " 'histor': 1,\n",
       " 'place': 1,\n",
       " 'nrhp': 1,\n",
       " 'context': 1,\n",
       " 'u': 2,\n",
       " 'space': 13,\n",
       " 'shuttl': 8,\n",
       " 'program': 4,\n",
       " '1969-2011': 1,\n",
       " 'criterion': 4,\n",
       " 'area': 2,\n",
       " 'explor': 1,\n",
       " 'transport': 1,\n",
       " 'c': 2,\n",
       " 'engin': 3,\n",
       " 'achiev': 2,\n",
       " 'signific': 3,\n",
       " 'within': 1,\n",
       " 'past': 1,\n",
       " 'fifti': 1,\n",
       " 'year': 1,\n",
       " 'criteria': 1,\n",
       " 'consider': 1,\n",
       " 'g': 1,\n",
       " 'appli': 1,\n",
       " 'oldest': 1,\n",
       " 'three': 1,\n",
       " 'extant': 1,\n",
       " 'vehicl': 3,\n",
       " 'construct': 3,\n",
       " 'ssp': 2,\n",
       " 'longest': 1,\n",
       " 'run': 1,\n",
       " 'american': 1,\n",
       " 'date': 1,\n",
       " 'third': 1,\n",
       " 'five': 2,\n",
       " 'built': 1,\n",
       " 'nasa': 1,\n",
       " 'unlik': 1,\n",
       " 'mercuri': 1,\n",
       " 'gemini': 1,\n",
       " 'apollo': 1,\n",
       " 'emphasi': 1,\n",
       " 'cost': 1,\n",
       " 'effect': 1,\n",
       " 'reusabl': 4,\n",
       " 'eventu': 1,\n",
       " 'station': 3,\n",
       " 'includ': 2,\n",
       " 'maiden': 1,\n",
       " 'voyag': 1,\n",
       " 'launch': 1,\n",
       " 'august': 1,\n",
       " '30': 1,\n",
       " '1984': 1,\n",
       " 'flew': 3,\n",
       " 'thirty-nin': 1,\n",
       " 'time': 2,\n",
       " 'four': 1,\n",
       " 'also': 3,\n",
       " 'first': 10,\n",
       " 'fli': 3,\n",
       " 'twenti': 1,\n",
       " 'mission': 5,\n",
       " 'honor': 1,\n",
       " 'chosen': 1,\n",
       " 'return': 1,\n",
       " 'flight': 2,\n",
       " 'challeng': 2,\n",
       " 'columbia': 1,\n",
       " 'accid': 2,\n",
       " 'redesign': 1,\n",
       " 'srb': 1,\n",
       " 'result': 1,\n",
       " 'phase': 1,\n",
       " 'ii': 1,\n",
       " 'block': 1,\n",
       " 'ssme': 1,\n",
       " 'carri': 1,\n",
       " 'hubbl': 1,\n",
       " 'telescop': 1,\n",
       " 'perform': 2,\n",
       " 'two': 1,\n",
       " 'servic': 1,\n",
       " 'observatori': 1,\n",
       " 'last': 1,\n",
       " 'dedic': 1,\n",
       " 'depart': 1,\n",
       " 'defens': 1,\n",
       " 'dod': 1,\n",
       " 'well': 1,\n",
       " 'unclassifi': 1,\n",
       " 'defense-rel': 1,\n",
       " 'addit': 1,\n",
       " 'vital': 1,\n",
       " 'intern': 1,\n",
       " 'iss': 2,\n",
       " 'thirteen': 1,\n",
       " 'thirty-seven': 1,\n",
       " 'total': 1,\n",
       " 'flown': 2,\n",
       " 'dock': 1,\n",
       " 'exchang': 1,\n",
       " 'resid': 1,\n",
       " 'crew': 1,\n",
       " 'feat': 1,\n",
       " 'accord': 1,\n",
       " 'wayn': 1,\n",
       " 'hale': 2,\n",
       " 'director': 1,\n",
       " 'johnson': 1,\n",
       " 'center': 1,\n",
       " 'repres': 1,\n",
       " 'huge': 1,\n",
       " 'technolog': 1,\n",
       " 'leap': 1,\n",
       " 'expend': 1,\n",
       " 'rocket': 1,\n",
       " 'capsul': 1,\n",
       " 'wing': 2,\n",
       " 'hyperson': 2,\n",
       " 'cargo-carri': 2,\n",
       " 'spacecraft': 1,\n",
       " 'although': 1,\n",
       " 'base': 2,\n",
       " 'structur': 1,\n",
       " 'follow': 1,\n",
       " 'convent': 1,\n",
       " 'aircraft': 2,\n",
       " 'design': 1,\n",
       " 'use': 1,\n",
       " 'advanc': 1,\n",
       " 'materi': 2,\n",
       " 'minim': 1,\n",
       " 'weight': 1,\n",
       " 'purpos': 1,\n",
       " 'featur': 2,\n",
       " 'low': 1,\n",
       " 'thermal': 2,\n",
       " 'expans': 1,\n",
       " 'ratio': 1,\n",
       " 'provid': 1,\n",
       " 'stabl': 1,\n",
       " 'protect': 1,\n",
       " 'system': 3,\n",
       " 'tp': 2,\n",
       " 'previou': 1,\n",
       " 'spaceflight': 1,\n",
       " 'single-us': 1,\n",
       " 'abl': 1,\n",
       " 'heat': 1,\n",
       " 'shield': 1,\n",
       " 'notabl': 1,\n",
       " 'propuls': 1,\n",
       " 'two-fault-toler': 1,\n",
       " 'integr': 1,\n",
       " 'avion': 1,\n",
       " 'state': 1,\n",
       " 'remain': 1,\n",
       " 'largest': 1,\n",
       " 'fastest': 1,\n",
       " 'histori': 1,\n",
       " 'regularli': 1,\n",
       " 'twenty-f': 1,\n",
       " 'speed': 1,\n",
       " 'sound': 1}"
      ]
     },
     "execution_count": 36,
     "metadata": {},
     "output_type": "execute_result"
    }
   ],
   "source": [
    "words_freq = get_words_frequencies(for_sentences)\n",
    "words_freq"
   ]
  },
  {
   "cell_type": "code",
   "execution_count": 245,
   "id": "601041d1-119d-460e-9c4c-65c40e8df0ce",
   "metadata": {},
   "outputs": [],
   "source": [
    "from heapq import nlargest"
   ]
  },
  {
   "cell_type": "code",
   "execution_count": 246,
   "id": "5d4ce34b",
   "metadata": {},
   "outputs": [
    {
     "data": {
      "text/plain": [
       "{0: 88,\n",
       " 1: 13,\n",
       " 2: 98,\n",
       " 3: 37,\n",
       " 4: 79,\n",
       " 5: 13,\n",
       " 6: 60,\n",
       " 7: 49,\n",
       " 8: 41,\n",
       " 9: 70,\n",
       " 10: 39,\n",
       " 11: 20,\n",
       " 12: 72,\n",
       " 13: 39,\n",
       " 14: 62,\n",
       " 15: 64,\n",
       " 16: 42}"
      ]
     },
     "execution_count": 246,
     "metadata": {},
     "output_type": "execute_result"
    }
   ],
   "source": [
    "def score_sentences(sentences, words_freq):\n",
    "    sentence_scores = {}\n",
    "\n",
    "    for i, sentence in enumerate(sentences):\n",
    "        for word in sentence:\n",
    "            if word.lower() in words_freq.keys():\n",
    "                if i in sentence_scores.keys():\n",
    "                    sentence_scores[i] += words_freq[word]\n",
    "                else:\n",
    "                    sentence_scores[i] = words_freq[word]\n",
    "\n",
    "    return sentence_scores\n",
    "\n",
    "sentence_scores = score_sentences(words_for_sentences, words_freq)\n",
    "\n",
    "sentence_scores\n",
    "\n"
   ]
  },
  {
   "cell_type": "code",
   "execution_count": 247,
   "id": "b01a0ca1",
   "metadata": {},
   "outputs": [
    {
     "data": {
      "text/plain": [
       "[2, 0, 4, 12, 9]"
      ]
     },
     "execution_count": 247,
     "metadata": {},
     "output_type": "execute_result"
    }
   ],
   "source": [
    "select_length = int(len(sentences) * 0.3)\n",
    "summary = nlargest(select_length, sentence_scores, key=sentence_scores.get)\n",
    "\n",
    "summary"
   ]
  },
  {
   "cell_type": "code",
   "execution_count": 251,
   "id": "bdb145a6",
   "metadata": {},
   "outputs": [
    {
     "data": {
      "text/plain": [
       "' Under Criterion A, Discovery is significant as the oldest of the three extant orbiter vehicles constructed for the Space Shuttle Program (SSP), the longest running American space program to date; she was the third of five orbiters built by NASA. The Orbiter Discovery, OV-103, is considered eligible for listing in the National Register of Historic Places (NRHP) in the context of the U.S. Space Shuttle Program (1969-2011) under Criterion A in the areas of Space Exploration and Transportation and under Criterion C in the area of Engineering. Including her maiden voyage (launched August 30, 1984), Discovery flew to space thirty-nine times, more than any of the other four orbiters; she was also the first orbiter to fly twenty missions. According to Wayne Hale, a flight director from Johnson Space Center, the Space Shuttle orbiter represents a “huge technological leap from expendable rockets and capsules to a reusable, winged, hypersonic, cargo-carrying spacecraft.” In addition, Discovery was vital to the construction of the International Space Station (ISS); she flew thirteen of the thirty-seven total missions flown to the station by a U.S. Space Shuttle.'"
      ]
     },
     "execution_count": 251,
     "metadata": {},
     "output_type": "execute_result"
    }
   ],
   "source": [
    "total_summary = \"\"\n",
    "for el in summary:\n",
    "        total_summary += \" \" + str(sentences_original[el])  \n",
    "\n",
    "total_summary"
   ]
  },
  {
   "cell_type": "markdown",
   "id": "c4925081",
   "metadata": {},
   "source": [
    "Отримано 5 наступних речень:\n",
    "\n",
    "' Under Criterion A, Discovery is significant as the oldest of the three extant orbiter vehicles constructed for the Space Shuttle Program (SSP), the longest running American space program to date; she was the third of five orbiters built by NASA. The Orbiter Discovery, OV-103, is considered eligible for listing in the National Register of Historic Places (NRHP) in the context of the U.S. Space Shuttle Program (1969-2011) under Criterion A in the areas of Space Exploration and Transportation and under Criterion C in the area of Engineering. Including her maiden voyage (launched August 30, 1984), Discovery flew to space thirty-nine times, more than any of the other four orbiters; she was also the first orbiter to fly twenty missions. According to Wayne Hale, a flight director from Johnson Space Center, the Space Shuttle orbiter represents a “huge technological leap from expendable rockets and capsules to a reusable, winged, hypersonic, cargo-carrying spacecraft.” In addition, Discovery was vital to the construction of the International Space Station (ISS); she flew thirteen of the thirty-seven total missions flown to the station by a U.S. Space Shuttle.'"
   ]
  }
 ],
 "metadata": {
  "kernelspec": {
   "display_name": "Python 3 (ipykernel)",
   "language": "python",
   "name": "python3"
  },
  "language_info": {
   "codemirror_mode": {
    "name": "ipython",
    "version": 3
   },
   "file_extension": ".py",
   "mimetype": "text/x-python",
   "name": "python",
   "nbconvert_exporter": "python",
   "pygments_lexer": "ipython3",
   "version": "3.11.3"
  }
 },
 "nbformat": 4,
 "nbformat_minor": 5
}
